{
 "cells": [
  {
   "cell_type": "code",
   "execution_count": null,
   "id": "835cfb35",
   "metadata": {},
   "outputs": [],
   "source": [
    "# This allows execution from the docs/ directory\n",
    "import sys\n",
    "if '../' not in sys.path:\n",
    "    sys.path.insert(0, '../')"
   ]
  },
  {
   "cell_type": "code",
   "execution_count": null,
   "id": "88d0761a",
   "metadata": {},
   "outputs": [],
   "source": [
    "import matplotlib.pyplot as pl\n",
    "pl.rcParams.update({\n",
    "    \"font.family\": \"serif\",\n",
    "    'font.size': 11.0,\n",
    "    'axes.labelsize': 'medium',\n",
    "    'xtick.major.pad': 2.0,\n",
    "    'ytick.major.pad': 2.0,\n",
    "    'xtick.major.size': 4.0,\n",
    "    'ytick.major.size': 4.0,\n",
    "    'savefig.bbox': 'tight',\n",
    "    'savefig.dpi': 180,\n",
    "    'axes.spines.right': False,\n",
    "    'axes.spines.top': False,\n",
    "    'legend.frameon': False,\n",
    "})"
   ]
  },
  {
   "cell_type": "markdown",
   "id": "842890b7",
   "metadata": {},
   "source": [
    "Postprocessing with atooms\n",
    "==========================\n",
    "\n",
    "index\n",
    "\n",
    "In this tutorial, we are going to show how to perform standard analysis\n",
    "of molecular dynamics trajectories using the `atooms` package and its\n",
    "`postprocessing` component. You can install `postprocessing` from pypi:\n",
    "`pip install atooms-pp`.\n",
    "\n",
    "Setup\n",
    "-----\n",
    "\n",
    "We start with a few imports. We will read a trajectory file in XYZ\n",
    "format, so we also load the `TrajectoryXYZ` class from `atooms`.\n"
   ]
  },
  {
   "cell_type": "code",
   "execution_count": null,
   "id": "a171df7e",
   "metadata": {},
   "outputs": [],
   "source": [
    "import matplotlib.pyplot as pl\n",
    "import atooms.postprocessing as pp\n",
    "from atooms.trajectory import TrajectoryXYZ "
   ]
  },
  {
   "cell_type": "markdown",
   "id": "f29b8497",
   "metadata": {},
   "source": [
    "We consider a sample trajectory, which can be downloaded from the\n",
    "package repository.\n"
   ]
  },
  {
   "cell_type": "code",
   "execution_count": null,
   "id": "c16e8d6e",
   "metadata": {},
   "outputs": [],
   "source": [
    "from atooms.core.utils import download\n",
    "download('https://framagit.org/atooms/postprocessing/raw/master/data/kalj.xyz', \"/tmp\")\n",
    "path = '/tmp/kalj.xyz'"
   ]
  },
  {
   "cell_type": "markdown",
   "id": "96a17042",
   "metadata": {},
   "source": [
    "### Handling a trajectory\n",
    "\n",
    "A trajectory is an object with many properties. To load a trajectory, we\n",
    "create an instance of the class as follows\n"
   ]
  },
  {
   "cell_type": "code",
   "execution_count": null,
   "id": "c6689f4c",
   "metadata": {},
   "outputs": [],
   "source": [
    "th = TrajectoryXYZ(path)"
   ]
  },
  {
   "cell_type": "markdown",
   "id": "b3618aee",
   "metadata": {},
   "source": [
    "The trajectory is a list-like object, in the sense that it can be\n",
    "iterated upon and sliced. Each frame of the trajectory contains a\n",
    "`System` object, which is a snaphot of the system at a given instant\n",
    "(\\\"frame\\\") during the simulation. We have a look at the last frame\n"
   ]
  },
  {
   "cell_type": "code",
   "execution_count": null,
   "id": "1d7b0162",
   "metadata": {},
   "outputs": [],
   "source": [
    "print(th[-1])"
   ]
  },
  {
   "cell_type": "markdown",
   "id": "1c78285d",
   "metadata": {},
   "source": [
    "To know how many frames we have\n"
   ]
  },
  {
   "cell_type": "code",
   "execution_count": null,
   "id": "96a01b4e",
   "metadata": {},
   "outputs": [],
   "source": [
    "print(len(th))"
   ]
  },
  {
   "cell_type": "markdown",
   "id": "ff303265",
   "metadata": {},
   "source": [
    "To clarify: a slice like `th[10: 12]` is a list of frames, not a\n",
    "trajectory. It is possible to define a slice of a trajectory **as a\n",
    "trajectory** instance by using the `Sliced` class decorator, see below.\n",
    "\n",
    "If the trajectory contains metadata, these can be retrieved directly:\n"
   ]
  },
  {
   "cell_type": "code",
   "execution_count": null,
   "id": "33399c36",
   "metadata": {},
   "outputs": [],
   "source": [
    "from pprint import pprint\n",
    "print(\"Timestep during the trajectory:\", th.timestep)\n",
    "print(\"Steps after which the 3rd frame was stored:\", th.steps[2])\n",
    "print(\"Additional metadata:\")\n",
    "pprint(th.metadata)"
   ]
  },
  {
   "cell_type": "markdown",
   "id": "af889ad0",
   "metadata": {},
   "source": [
    "Analysis of the trajectory\n",
    "--------------------------\n",
    "\n",
    "Now that we have constructed a trajectory object, we can proceed to the\n",
    "analysis. We are going to consider two main aspects of the analysis:\n",
    "\n",
    "-   structural correlations\n",
    "-   dynamical correlations\n",
    "\n",
    "### Structural correlations\n",
    "\n",
    "1.  Radial distribution function\n",
    "\n",
    "    The radial distribution function $g(r)$ describes how the local\n",
    "    density varies as a function of the distance from a reference\n",
    "    particle. In liquids, one normally averages over all particles,\n",
    "    obtaining a descriptor of the probability to find a second particle\n",
    "    a distance $r$ from a given particle, relative to that of the ideal\n",
    "    gas.\n",
    "\n",
    "    For $N$ particles of the same type at density $\\rho$ it is\n",
    "\n",
    "    $$g(r)=\\frac{1}{N\\rho}\\left\\langle\\sum_i^{N}\\sum_{i\\neq j}\\delta(r-|\\mathbf{r}_i-\\mathbf{r}_j|)\\right\\rangle$$.\n",
    "\n",
    "    Notice that the average number of particles with a distance $R$,\n",
    "    i.e. the average **coordination number** $n(R)$, can be computed\n",
    "    from the radial distribution function via integration in spherical\n",
    "    coordinates (for 3D systems)\n",
    "\n",
    "    $$n(R)=4\\pi \\rho\\int_0^R g(r)r^2 dr$$\n",
    "\n",
    "    In `postprocessing` the radial distribution function is a\n",
    "    `Correlation` object that takes a trajectory as input. In order to\n",
    "    compute the correlation function, we construct the object,\n",
    "    specifying some parameters, and then run the calculation with the\n",
    "    `compute()` method.\n"
   ]
  },
  {
   "cell_type": "code",
   "execution_count": null,
   "id": "207974ed",
   "metadata": {},
   "outputs": [],
   "source": [
    "# We let postprocessing choose a reasonable number of time origins for the average\n",
    "gr = pp.RadialDistributionFunction(th, dr=0.03)\n",
    "gr.compute()\n",
    "# We average over all the frames\n",
    "gr_all = pp.RadialDistributionFunction(th, dr=0.03, norigins=len(th))\n",
    "gr_all.compute()"
   ]
  },
  {
   "cell_type": "markdown",
   "id": "91d6c7b4",
   "metadata": {},
   "source": [
    "Once the calculation is performed, the radial distribution object `gr`\n",
    "contains (like all correlators in `postprocessing`) two arrays:\n",
    "\n",
    "-   the `grid` array contains the independent variable (or variables),\n",
    "    binned according to our input parameters (in this case, the smallest\n",
    "    space interval that we resolve, `dr`)\n",
    "-   the `value` array contains the actual value of the computation, in\n",
    "    this case the values of $g(r)$\n",
    "\n",
    "As you can see there is very little improvement when using the full\n",
    "trajectory.\n"
   ]
  },
  {
   "cell_type": "code",
   "execution_count": null,
   "id": "76156d7e",
   "metadata": {},
   "outputs": [],
   "source": [
    "pl.plot(gr.grid, gr.value, label='Default')\n",
    "pl.plot(gr_all.grid, gr_all.value, label='All time origins')\n",
    "pl.xlabel(\"r\")\n",
    "pl.ylabel(\"g(r)\")"
   ]
  },
  {
   "cell_type": "markdown",
   "id": "7f74c3d8",
   "metadata": {},
   "source": [
    "![](gr.png)\n",
    "\n",
    "You can show the results right away with the `show()` method, which\n",
    "formats the labels automatically. The method returns a `matplotlib` axis\n",
    "object for further customization.\n"
   ]
  },
  {
   "cell_type": "code",
   "execution_count": null,
   "id": "5be872a4",
   "metadata": {},
   "outputs": [],
   "source": [
    "gr.show()"
   ]
  },
  {
   "cell_type": "markdown",
   "id": "2b277011",
   "metadata": {},
   "source": [
    "As we can see, the correlation function displays two narrow peaks around\n",
    "$r=1$ and a broader peak further away. The presence of several peaks is\n",
    "due to the fact that the system actually contains two types of\n",
    "particles, noted $A$ and $B$.\n",
    "\n",
    "We can compute separate distribution functions for the $A$ and $B$\n",
    "particles and also the cross distribution funtion for the probability to\n",
    "find a particle $B$ at distance $r$ from particle $A$ using the\n",
    "`Partial` class.\n"
   ]
  },
  {
   "cell_type": "code",
   "execution_count": null,
   "id": "82f5bebb",
   "metadata": {},
   "outputs": [],
   "source": [
    "gr = pp.Partial(pp.RadialDistributionFunction, species=['A', 'B'], trajectory=th, dr=0.03, norigins=len(th))\n",
    "gr.partial[('B', 'B')].dr = 0.06\n",
    "gr.compute() "
   ]
  },
  {
   "cell_type": "markdown",
   "id": "3571cc25",
   "metadata": {},
   "source": [
    "Note how we modified the bin width `dr` for the $B$-$B$ correlations to\n",
    "compensate for the reduced statistics for the minority species.\n",
    "\n",
    "In this case, the result contains a dictionary `gr.partial`\n"
   ]
  },
  {
   "cell_type": "code",
   "execution_count": null,
   "id": "eb37ee83",
   "metadata": {},
   "outputs": [],
   "source": [
    "from pprint import pprint\n",
    "pprint(gr.partial)"
   ]
  },
  {
   "cell_type": "markdown",
   "id": "1e7aa8b1",
   "metadata": {},
   "source": [
    "We plot all correlation functions\n"
   ]
  },
  {
   "cell_type": "code",
   "execution_count": null,
   "id": "f9998f61",
   "metadata": {},
   "outputs": [],
   "source": [
    "for key,g in gr.partial.items():\n",
    "    pl.plot(g.grid, g.value, label=str(\"\".join(key)))\n",
    "pl.legend()\n",
    "pl.xlabel(\"$r$\")\n",
    "pl.ylabel(r\"$g_{\\alpha\\beta}(r)$\")"
   ]
  },
  {
   "cell_type": "markdown",
   "id": "141c2b16",
   "metadata": {},
   "source": [
    "![](gr_ab.png)\n",
    "\n",
    "Sometimes, it is useful to analyse only sections of a trajectory. To\n",
    "this purpose, one can slice the trajectory using `atooms` and analyse\n",
    "individual frames or subsets of frames.\n"
   ]
  },
  {
   "cell_type": "code",
   "execution_count": null,
   "id": "fee29abc",
   "metadata": {},
   "outputs": [],
   "source": [
    "from atooms import trajectory\n",
    "t =  trajectory.Sliced(th, slice(len(th)//2, len(th)))  # analyse only the 2nd half\n",
    "gr = pp.RadialDistributionFunction(t, dr=0.03)\n",
    "gr.compute()\n",
    "pl.plot(gr.grid, gr.value)\n",
    "pl.xlabel(\"r\")\n",
    "pl.ylabel(\"g(r)\")"
   ]
  },
  {
   "cell_type": "markdown",
   "id": "e21ec7e6",
   "metadata": {},
   "source": [
    "![](gr_slice.png)\n",
    "\n",
    "### Dynamical correlations\n",
    "\n",
    "1.  Mean square displacement\n",
    "\n",
    "    We can also compute dynamical correlation functions. The simplest of\n",
    "    such quantities is the mean squared displacement (MSD). This is\n",
    "    defined as\n",
    "\n",
    "    $$ \\delta r^2(t)= \\langle |\\mathbf{r}(t-t_0) - \\mathbf{r}(t_0)|^2\\rangle$$\n",
    "\n",
    "    The average is usually performed over all the $N$ particles and over\n",
    "    multiple time origins $t_0$.\n",
    "\n",
    "    The analysis process is now familiar. First we construct the msd\n",
    "    object and then perform the calculation with `compute()`. By\n",
    "    default, the time grid is linear.\n"
   ]
  },
  {
   "cell_type": "code",
   "execution_count": null,
   "id": "bebb7566",
   "metadata": {},
   "outputs": [],
   "source": [
    "msd = pp.MeanSquareDisplacement(th)\n",
    "msd.compute()\n",
    "pl.plot(msd.grid, msd.value, '-o')\n",
    "pl.xlabel(\"t\")\n",
    "pl.ylabel(\"MSD(t)\");"
   ]
  },
  {
   "cell_type": "markdown",
   "id": "981badd6",
   "metadata": {},
   "source": [
    "![](msd.png)\n",
    "\n",
    "Again, we can compute partial mean square displacements using the\n",
    "`Partial` class. This time we use an expoentially spaced time grid. We\n",
    "can clearly distinguish the short time balistic regime from the\n",
    "diffusion one at long times. The intermediate inflection is a signal of\n",
    "incipient glassy dynamics.\n"
   ]
  },
  {
   "cell_type": "code",
   "execution_count": null,
   "id": "5b6bd06c",
   "metadata": {},
   "outputs": [],
   "source": [
    "import numpy\n",
    "tgrid = th.timestep * numpy.logspace(0, 5, base=10)\n",
    "msds = pp.Partial(pp.MeanSquareDisplacement, species=['A','B'], trajectory=th, tgrid=tgrid)\n",
    "msds.compute()\n",
    "pl.loglog(msds.partial['A'].grid, msds.partial['A'].value, '-o', label='A')\n",
    "pl.loglog(msds.partial['B'].grid, msds.partial['B'].value, '-o', label='B')\n",
    "pl.legend()\n",
    "pl.xlabel(\"t\")\n",
    "pl.ylabel(\"MSD(t)\")"
   ]
  },
  {
   "cell_type": "markdown",
   "id": "e0a0c106",
   "metadata": {},
   "source": [
    "![](msd_ab.png)\n",
    "\n",
    "Self intermediate scattering function\n",
    "\n",
    "We compute the self part of the intermediate scattering function (ISF)\n",
    "at specific wave-vectors using a logarithmic time grid. We specify the\n",
    "norm of the wave-vector we want to use for our calculation (`kgrid`) and\n",
    "the number of wave-vectors over which the correlation function will be\n",
    "averaged (`nk`). They are chosen at random in a shell of width `dk`. To\n",
    "get more info on the parameters passed to compute the ISF, have a look\n",
    "at the help for the base class with\n",
    "`help(pp.fourierspace.FourierSpaceCorrelation)`.\n"
   ]
  },
  {
   "cell_type": "code",
   "execution_count": null,
   "id": "fb3d0c33",
   "metadata": {},
   "outputs": [],
   "source": [
    "from math import pi\n",
    "import numpy\n",
    "tgrid = th.timestep * numpy.logspace(0, 5, base=10)\n",
    "isf = pp.Partial(pp.SelfIntermediateScattering, species=[\"A\"], trajectory=th,\n",
    "                 kgrid=[pi, 7.0], nk=3, dk=0.1, tgrid=tgrid)\n",
    "isf.compute()"
   ]
  },
  {
   "cell_type": "markdown",
   "id": "24107b0b",
   "metadata": {},
   "source": [
    "Note that now `grid` is a tuple of lists: the first one is the list of\n",
    "all the $k$\\'s (the $k$-number grid) while the second is the list of\n",
    "$t$\\'s (the time grid, which is identical for all wave-vectors).\n",
    "\n",
    "The ISF decays to zero at long times, as it should in an ergodic liquid.\n"
   ]
  },
  {
   "cell_type": "code",
   "execution_count": null,
   "id": "056cc4ed",
   "metadata": {},
   "outputs": [],
   "source": [
    "isf_A = isf.partial['A']\n",
    "pl.semilogx(isf_A.grid[1], isf_A.value[0], '-o', label=f'k={isf_A.grid[0][0]:.2f}') \n",
    "pl.semilogx(isf_A.grid[1], isf_A.value[1], '-o', label=f'k={isf_A.grid[0][1]:.2f}') \n",
    "pl.legend()\n",
    "pl.xlabel('t')\n",
    "pl.ylabel('ISF')"
   ]
  },
  {
   "cell_type": "markdown",
   "id": "077c49d6",
   "metadata": {},
   "source": [
    "![](isf.png)\n",
    "\n",
    "### More correlation functions\n",
    "\n",
    "Here is the full list of correlation functions currently available in\n",
    "`postprocessing`, along with the corresponding classes:\n"
   ]
  },
  {
   "cell_type": "code",
   "execution_count": null,
   "id": "99c94f2c",
   "metadata": {},
   "outputs": [],
   "source": [
    "import inspect\n",
    "import atooms.postprocessing as pp\n",
    "for cls in inspect.getmembers(pp, inspect.isclass):    \n",
    "    if issubclass(cls[1], pp.Correlation) \\\n",
    "       and cls[1] is not pp.Correlation \\\n",
    "       and not 'Fast' in cls[0] \\\n",
    "       and not 'Legacy' in cls[0] \\\n",
    "       and not 'Optimized' in cls[0] \\\n",
    "       and not 'Susceptibility' == cls[0]:\n",
    "        print('- `{}`: {}'.format(cls[0], cls[1].long_name))"
   ]
  },
  {
   "cell_type": "markdown",
   "id": "cd70dfe6",
   "metadata": {},
   "source": [
    "-   \\`BondAngleDistribution\\`: bond angle distribution\n",
    "-   \\`Chi4SelfOverlap\\`: dynamic susceptibility of self overlap\n",
    "-   \\`CollectiveOverlap\\`: collective overlap\n",
    "-   \\`IntermediateScattering\\`: intermediate scattering function\n",
    "-   \\`MeanSquareDisplacement\\`: mean square displacement\n",
    "-   \\`NonGaussianParameter\\`: non-Gaussian parameter\n",
    "-   \\`RadialDistributionFunction\\`: radial distribution function\n",
    "-   \\`S4ktOverlap\\`: 4-point dynamic structure factor from self overlap\n",
    "-   \\`SelfIntermediateScattering\\`: self intermediate scattering\n",
    "    function\n",
    "-   \\`SelfOverlap\\`: self overlap\n",
    "-   \\`SpectralDensity\\`: spectral density\n",
    "-   \\`StructureFactor\\`: structure factor\n",
    "-   \\`VelocityAutocorrelation\\`: velocity autocorrelation\n",
    "\n",
    "Some of them have multiple implementations (ex. `Fast` and `Legacy`),\n",
    "which are picked at runtime depending on your platform. The fastest\n",
    "implementation will be automatically picked up, if possible.\n",
    "\n",
    "Writing your own correlation functions\n",
    "--------------------------------------\n",
    "\n",
    "We can extend the correlation class to compute additional correlation\n",
    "functions. By default, we get access to particles\\' positions and\n",
    "velocities stored in the following `Correlation` attributes\n",
    "\n",
    "-   `_pos`: positions as a list of `(ndim, npart)` numpy arrays, one per\n",
    "    frame\n",
    "-   `_pos_unf`: same as above but positions are PBC-unfolded (useful for\n",
    "    dynamic correlations)\n",
    "-   `_vel`: velocities as a list of `(ndim, npart)` numpy arrays, one\n",
    "    per frame\n",
    "\n",
    "### Static correlations\n",
    "\n",
    "This is a gist of a new correlation class that computes a static\n",
    "correlation over some grid and averages it over the frames\n"
   ]
  },
  {
   "cell_type": "code",
   "execution_count": null,
   "id": "cd3bb69a",
   "metadata": {},
   "outputs": [],
   "source": [
    "import atooms.postprocessing as pp\n",
    "from collections import defaultdict\n",
    "import numpy\n",
    "\n",
    "class NewStaticCorrelation(pp.correlation.Correlation):\n",
    "    def __init__(self, trajectory, grid):\n",
    "        # The grid will be stored in self grid\n",
    "        super().__init__(trajectory, grid)\n",
    "        # We only need the positions\n",
    "        self.phasespace = [\"pos\"]\n",
    "\n",
    "    def _compute(self):\n",
    "        # Kernel function\n",
    "        def my_correlation(grid, pos):\n",
    "            return numpy.ones_like(grid)\n",
    "\n",
    "        # We average over all the frames here\n",
    "        raw = []\n",
    "        for i in range(len(self._pos)):\n",
    "            raw.append(my_correlation(self.grid, self._pos[i]))\n",
    "        self.value = numpy.array(raw).mean(axis=0)\n",
    "\n",
    "from atooms.trajectory import TrajectoryXYZ\n",
    "th = TrajectoryXYZ(path)\n",
    "nw = NewStaticCorrelation(th, [0.0, 1.0])\n",
    "nw.compute()"
   ]
  },
  {
   "cell_type": "markdown",
   "id": "b3a5f3b2",
   "metadata": {},
   "source": [
    "### Dynamic correlations\n",
    "\n",
    "To compute time-dependent correlation function, we can proceed as above,\n",
    "looping over time origins and computing correlations between frames\n",
    "spaced by intervals given by an input `grid`. There is a helper function\n",
    "that deals with finding a suitable set of frames to best match an input\n",
    "`grid` (assumed to be in real time). This deals with the general case of\n",
    "trajectories with exponential time spacing.\n"
   ]
  },
  {
   "cell_type": "code",
   "execution_count": null,
   "id": "29ad4786",
   "metadata": {},
   "outputs": [],
   "source": [
    "from collections import defaultdict\n",
    "import atooms.postprocessing as pp\n",
    "import numpy\n",
    "from atooms.postprocessing.helpers import setup_t_grid\n",
    "\n",
    "class NewDynamicCorrelation(pp.correlation.Correlation):\n",
    "    def __init__(self, trajectory, tgrid):\n",
    "        pp.correlation.Correlation.__init__(self, trajectory, tgrid)\n",
    "        self.phasespace = [\"pos\"]\n",
    "        # Here we setup a grid of frames that best match the input tgrid\n",
    "        # See below how to use it\n",
    "        self._discrete_tgrid = setup_t_grid(self.trajectory, tgrid)\n",
    "\n",
    "    def _compute(self):\n",
    "        # Kernel function\n",
    "        def my_correlation(grid, pos_0, pos_1):\n",
    "            return 1.0\n",
    "\n",
    "        assert 0 in self.grid\n",
    "        raw = defaultdict(list)\n",
    "        # Here we get an offset frame and a corresponding separation t (in frame)\n",
    "        for offset, t in self._discrete_tgrid:\n",
    "            # We loop over compatible origin frames t_0, starting from offset,\n",
    "            # skipping every self.skip frame\n",
    "            for t_0 in range(offset, len(self._pos)-t, self.skip):\n",
    "                # Compute the actual time intervale between the frames in steps\n",
    "                dt = self.trajectory.steps[t_0 + t] - self.trajectory.steps[t_0]\n",
    "                cf = my_correlation(self.grid, self._pos[t_0 + t], self._pos[t_0])\n",
    "                raw[dt].append(cf)\n",
    "\n",
    "        # Normalization by the value at zero\n",
    "        self.value = [numpy.mean(raw[dt]) / numpy.mean(raw[0]) for dt in raw]\n",
    "\n",
    "nw = NewDynamicCorrelation(th, [0.0, 1.0, 2.0])\n",
    "nw.compute()"
   ]
  },
  {
   "cell_type": "markdown",
   "id": "3e3f5a47",
   "metadata": {},
   "source": [
    "Storing results and analysis\n",
    "----------------------------\n",
    "\n",
    "The correlation functions can be written to files, using the `write()`\n",
    "method.\n"
   ]
  },
  {
   "cell_type": "code",
   "execution_count": null,
   "id": "1709d975",
   "metadata": {},
   "outputs": [],
   "source": [
    "msd = pp.MeanSquareDisplacement(th)\n",
    "msd.compute()\n",
    "msd.write()"
   ]
  },
  {
   "cell_type": "markdown",
   "id": "2622d414",
   "metadata": {},
   "source": [
    "The output file path is interpolated using the variable\n",
    "`core.pp_output_path`\n"
   ]
  },
  {
   "cell_type": "code",
   "execution_count": null,
   "id": "638659fb",
   "metadata": {},
   "outputs": [],
   "source": [
    "print('{} gives {}'.format(pp.core.pp_output_path, msd._output_file))"
   ]
  },
  {
   "cell_type": "markdown",
   "id": "a3ad0bc7",
   "metadata": {},
   "source": [
    "To change the output file pattern just modify the string. You can use\n",
    "any `Correlation` attribute enclosed in brackets to parameterize the\n",
    "output.\n",
    "\n",
    "The output file is a simple columnar text file containing the grid and\n",
    "values of the correlation function.\n",
    "\n",
    "Some correlation functions may implement some basic analysis as well\n"
   ]
  },
  {
   "cell_type": "code",
   "execution_count": null,
   "id": "00cec52c",
   "metadata": {},
   "outputs": [],
   "source": [
    "msd.analyze()\n",
    "pprint(msd.analysis)"
   ]
  },
  {
   "cell_type": "markdown",
   "id": "3ab0660a",
   "metadata": {},
   "source": [
    "If `analyze()` is called before `compute()`, the above dictionary will\n",
    "be written in the output file as well.\n",
    "\n",
    "Finally, you can perform all the steps above (`compute`, `analyze`,\n",
    "`write`) in one sweep like this\n"
   ]
  },
  {
   "cell_type": "code",
   "execution_count": null,
   "id": "cd7ee188",
   "metadata": {},
   "outputs": [],
   "source": [
    "msd.do()"
   ]
  }
 ],
 "metadata": {},
 "nbformat": 4,
 "nbformat_minor": 5
}
