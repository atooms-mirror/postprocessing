{
 "cells": [
  {
   "cell_type": "markdown",
   "id": "b559e541",
   "metadata": {},
   "source": [
    "Postprocessing with atooms\n",
    "==========================\n",
    "\n",
    "index\n",
    "\n",
    "In this tutorial, we are going to show how to perform standard analysis\n",
    "of molecular dynamics trajectories using the `atooms` package and its\n",
    "`postprocessing` component. You can install `postprocessing` from pypi:\n",
    "`pip install atooms-pp`.\n",
    "\n",
    "Setup\n",
    "-----\n",
    "\n",
    "We start with a few imports. We will read a trajectory file in XYZ\n",
    "format, so we also load the `TrajectoryXYZ` class from `atooms`.\n"
   ]
  },
  {
   "cell_type": "code",
   "execution_count": null,
   "id": "38ae782d",
   "metadata": {},
   "outputs": [],
   "source": [
    "import matplotlib.pyplot as pl\n",
    "import atooms.postprocessing as pp\n",
    "from atooms.trajectory import TrajectoryXYZ "
   ]
  },
  {
   "cell_type": "markdown",
   "id": "6404b7ac",
   "metadata": {},
   "source": [
    "We consider a sample trajectory, which can be downloaded from the\n",
    "package repository. Let\\'s store the path to this file in a variable for\n",
    "later convenience\n"
   ]
  },
  {
   "cell_type": "code",
   "execution_count": null,
   "id": "acf23915",
   "metadata": {},
   "outputs": [],
   "source": [
    "from atooms.core.utils import download\n",
    "download('https://framagit.org/atooms/postprocessing/raw/master/data/kalj-small.xyz', \"/tmp\")\n",
    "path = '/tmp/kalj-small.xyz'"
   ]
  },
  {
   "cell_type": "markdown",
   "id": "225eed7a",
   "metadata": {},
   "source": [
    "### Handling a trajectory\n",
    "\n",
    "A trajectory is an object with many properties. To load a trajectory, we\n",
    "create an instance of the class as follows\n"
   ]
  },
  {
   "cell_type": "code",
   "execution_count": null,
   "id": "1a3498be",
   "metadata": {},
   "outputs": [],
   "source": [
    "th = TrajectoryXYZ(path)"
   ]
  },
  {
   "cell_type": "markdown",
   "id": "6e9e1e06",
   "metadata": {},
   "source": [
    "The trajectory is a list-like object, in the sense that it can be\n",
    "iterated upon and sliced. Each frame of the trajectory contains a\n",
    "`System` object, which is a snaphot of the system at a given instant\n",
    "(\\\"frame\\\") during the simulation. We have a look at the last frame\n"
   ]
  },
  {
   "cell_type": "code",
   "execution_count": null,
   "id": "c3cc3c76",
   "metadata": {},
   "outputs": [],
   "source": [
    "print(th[-1])"
   ]
  },
  {
   "cell_type": "markdown",
   "id": "46a70913",
   "metadata": {},
   "source": [
    "To know how many frames we have\n"
   ]
  },
  {
   "cell_type": "code",
   "execution_count": null,
   "id": "c3cc34bf",
   "metadata": {},
   "outputs": [],
   "source": [
    "print(len(th))"
   ]
  },
  {
   "cell_type": "markdown",
   "id": "1f85a94e",
   "metadata": {},
   "source": [
    "To clarify: a slice like `th[10: 12]` is a list of frames, not a\n",
    "trajectory. It is possible to define a slice of a trajectory **as a\n",
    "trajectory** instance by using the `Sliced` class decorator, see below.\n",
    "\n",
    "If the trajectory contains metadata, these can be retrieved directly:\n"
   ]
  },
  {
   "cell_type": "code",
   "execution_count": null,
   "id": "6d5f83fc",
   "metadata": {},
   "outputs": [],
   "source": [
    "from pprint import pprint\n",
    "print(\"Timestep during the trajectory:\", th.timestep)\n",
    "print(\"Steps after which the 3rd frame was stored:\", th.steps[2])\n",
    "print(\"Additional metadata:\")\n",
    "pprint(th.metadata)"
   ]
  },
  {
   "cell_type": "markdown",
   "id": "2e05dd10",
   "metadata": {},
   "source": [
    "Analysis of the trajectory\n",
    "--------------------------\n",
    "\n",
    "Now that we have constructed a trajectory object, we can proceed to the\n",
    "analysis. We are going to consider two main aspects of the analysis:\n",
    "\n",
    "-   structural correlations\n",
    "-   dynamical correlations\n",
    "\n",
    "### Structural correlations\n",
    "\n",
    "1.  Radial distribution function\n",
    "\n",
    "    The radial distribution function $g(r)$ describes how the local\n",
    "    density varies as a function of the distance from a reference\n",
    "    particle. In liquids, one normally averages over all particles,\n",
    "    obtaining a descriptor of the probability to find a second particle\n",
    "    a distance $r$ from a given particle, relative to that of the ideal\n",
    "    gas.\n",
    "\n",
    "    For $N$ particles of the same type at density $\\rho$ it is\n",
    "\n",
    "    $$g(r)=\\frac{1}{N\\rho}\\left\\langle\\sum_i^{N}\\sum_{i\\neq j}\\delta(r-|\\mathbf{r}_i-\\mathbf{r}_j|)\\right\\rangle$$.\n",
    "\n",
    "    Notice that the average number of particles with a distance $R$,\n",
    "    i.e. the average **coordination number** $n(R)$, can be computed\n",
    "    from the radial distribution function via integration in spherical\n",
    "    coordinates (for 3D systems)\n",
    "\n",
    "    $$n(R)=4\\pi \\rho\\int_0^R g(r)r^2 dr$$\n",
    "\n",
    "    In `postprocessing` the radial distribution function is a\n",
    "    `Correlation` object that takes a trajectory as input. In order to\n",
    "    compute the correlation function, we construct the object,\n",
    "    specifying some parameters, and then run the calculation with the\n",
    "    `compute()` method\n"
   ]
  },
  {
   "cell_type": "code",
   "execution_count": null,
   "id": "cef8c617",
   "metadata": {},
   "outputs": [],
   "source": [
    "gr = pp.RadialDistributionFunction(th, dr=0.02)\n",
    "gr.compute()"
   ]
  },
  {
   "cell_type": "markdown",
   "id": "9f7f05bd",
   "metadata": {},
   "source": [
    "Once the calculation is performed, the radial distribution object `gr`\n",
    "contains (like all correlators in `postprocessing`) two arrays:\n",
    "\n",
    "-   the `grid` array contains the independent variable (or variables),\n",
    "    binned according to our input parameters (in this case, the smallest\n",
    "    space interval that we resolve, `dr`)\n",
    "-   the `value` array contains the actual value of the computation, in\n",
    "    this case the values of $g(r)$\n",
    "\n",
    "We can directly plot the results with\n"
   ]
  },
  {
   "cell_type": "code",
   "execution_count": null,
   "id": "e5d867d7",
   "metadata": {},
   "outputs": [],
   "source": [
    "pl.plot(gr.grid, gr.value)\n",
    "pl.xlabel(\"r\")\n",
    "pl.ylabel(\"g(r)\")"
   ]
  },
  {
   "cell_type": "markdown",
   "id": "11de7af3",
   "metadata": {},
   "source": [
    "![](gr.png)\n",
    "\n",
    "You can show the results right away with the `show()` method, which\n",
    "formats the labels automatically. The method returns a `matplotlib` axis\n",
    "object for further customization.\n"
   ]
  },
  {
   "cell_type": "code",
   "execution_count": null,
   "id": "d040d39a",
   "metadata": {},
   "outputs": [],
   "source": [
    "gr.show()"
   ]
  },
  {
   "cell_type": "markdown",
   "id": "e76d4e24",
   "metadata": {},
   "source": [
    "As we can see, the correlation function displays two narrow peaks around\n",
    "$r=1$ and a broader peak further away. The presence of several peaks is\n",
    "due to the fact that the system actually contains two types of\n",
    "particles, noted $A$ and $B$.\n",
    "\n",
    "We can compute separate distribution functions for the $A$ and $B$\n",
    "particles and also the cross distribution funtion for the probability to\n",
    "find a particle $B$ at distance $r$ from particle $A$ using the\n",
    "`Partial` class.\n"
   ]
  },
  {
   "cell_type": "code",
   "execution_count": null,
   "id": "057e3034",
   "metadata": {},
   "outputs": [],
   "source": [
    "gr = pp.Partial(pp.RadialDistributionFunction, species=['A', 'B'], trajectory=th, dr=0.02)\n",
    "gr.partial[('B', 'B')].dr = 0.05\n",
    "gr.compute() "
   ]
  },
  {
   "cell_type": "markdown",
   "id": "bf76ceb4",
   "metadata": {},
   "source": [
    "Note how we modified the bin width `dr` for the $B$-$B$ correlations to\n",
    "compensate for the reduced statistics for the minority species.\n",
    "\n",
    "In this case, the result contains a dictionary `gr.partial`\n"
   ]
  },
  {
   "cell_type": "code",
   "execution_count": null,
   "id": "2d0564d3",
   "metadata": {},
   "outputs": [],
   "source": [
    "from pprint import pprint\n",
    "pprint(gr.partial)"
   ]
  },
  {
   "cell_type": "markdown",
   "id": "c801b0c4",
   "metadata": {},
   "source": [
    "We plot all correlation functions\n"
   ]
  },
  {
   "cell_type": "code",
   "execution_count": null,
   "id": "cada94df",
   "metadata": {},
   "outputs": [],
   "source": [
    "for key,g in gr.partial.items(): \n",
    "    pl.plot(g.grid, g.value, label=str(\"\".join(key)))\n",
    "pl.legend()\n",
    "pl.xlabel(\"r\")\n",
    "pl.ylabel(r\"$g_{\\alpha\\beta}(r)$\")"
   ]
  },
  {
   "cell_type": "markdown",
   "id": "e3a10a32",
   "metadata": {},
   "source": [
    "![](gr_ab.png)\n",
    "\n",
    "Sometimes, it is useful to analyse only sections of a trajectory. To\n",
    "this purpose, one can slice the trajectory using `atooms` and analyse\n",
    "individual frames or subsets of frames.\n"
   ]
  },
  {
   "cell_type": "code",
   "execution_count": null,
   "id": "7de9884a",
   "metadata": {},
   "outputs": [],
   "source": [
    "from atooms import trajectory\n",
    "t =  trajectory.Sliced(th, slice(len(th)//2, len(th)))  # analyse only the 2nd half\n",
    "gr = pp.RadialDistributionFunction(t, dr=0.02)\n",
    "gr.compute()\n",
    "pl.plot(gr.grid, gr.value)\n",
    "pl.xlabel(\"r\")\n",
    "pl.ylabel(\"g(r)\")"
   ]
  },
  {
   "cell_type": "markdown",
   "id": "0c450c01",
   "metadata": {},
   "source": [
    "![](gr_slice.png)\n",
    "\n",
    "### Dynamical correlations\n",
    "\n",
    "1.  Mean square displacement\n",
    "\n",
    "    We can also compute dynamical correlation functions. The simplest of\n",
    "    such quantities is the mean squared displacement (MSD). This is\n",
    "    defined as\n",
    "\n",
    "    $$ \\delta r^2(t)= \\langle |\\mathbf{r}(t-t_0) - \\mathbf{r}(t_0)|^2\\rangle$$\n",
    "\n",
    "    The average is usually performed over all the $N$ particles and over\n",
    "    multiple time origins $t_0$.\n",
    "\n",
    "    The analysis process is now familiar. First we construct the msd\n",
    "    object and then perform the calculation with `do()`.\n"
   ]
  },
  {
   "cell_type": "code",
   "execution_count": null,
   "id": "ef62479b",
   "metadata": {},
   "outputs": [],
   "source": [
    "msd = pp.MeanSquareDisplacement(th)\n",
    "msd.compute()"
   ]
  },
  {
   "cell_type": "code",
   "execution_count": null,
   "id": "74895b3c",
   "metadata": {},
   "outputs": [],
   "source": [
    "pl.loglog(msd.grid, msd.value, '-o')\n",
    "pl.xlabel(\"t\")\n",
    "pl.ylabel(\"MSD(t)\");"
   ]
  },
  {
   "cell_type": "markdown",
   "id": "20801597",
   "metadata": {},
   "source": [
    "![](msd.png)\n",
    "\n",
    "Again, we can compute partial mean square displacements using the\n",
    "`Partial` class\n"
   ]
  },
  {
   "cell_type": "code",
   "execution_count": null,
   "id": "cb112de2",
   "metadata": {},
   "outputs": [],
   "source": [
    "msds = pp.Partial(pp.MeanSquareDisplacement, species=['A','B'], trajectory=th, norigins=100)\n",
    "msds.compute()\n",
    "pl.loglog(msds.partial['A'].grid, msds.partial['A'].value, '-o', label='A')\n",
    "pl.loglog(msds.partial['B'].grid, msds.partial['B'].value, '-o', label='B')\n",
    "pl.legend()\n",
    "pl.xlabel(\"t\")\n",
    "pl.ylabel(\"MSD(t)\")"
   ]
  },
  {
   "cell_type": "markdown",
   "id": "4dbed8b2",
   "metadata": {},
   "source": [
    "![](msd_ab.png)\n",
    "\n",
    "Self intermediate scattering function\n",
    "\n",
    "We compute the self part of the intermediate scattering function (ISF)\n",
    "at specific wave-vectors using a logarithmic time grid.\n"
   ]
  },
  {
   "cell_type": "code",
   "execution_count": null,
   "id": "5a077ba5",
   "metadata": {},
   "outputs": [],
   "source": [
    "from math import pi\n",
    "import numpy\n",
    "tgrid = numpy.logspace(0, 3, base=10)  # we must include t=0\n",
    "isf = pp.Partial(pp.SelfIntermediateScattering, species=[\"A\"], trajectory=th,\n",
    "                 kgrid=[2*pi, 2.5*pi], nk=1, tgrid=tgrid)\n",
    "isf.do()"
   ]
  },
  {
   "cell_type": "markdown",
   "id": "39036064",
   "metadata": {},
   "source": [
    "To get some info on the parameters passed to compute the ISF, have a\n",
    "look at the help for the base class with\n",
    "`help(pp.fourierspace.FourierSpaceCorrelation)`\n",
    "\n",
    "The ISF decays to zero at long times, as it should in an ergodic liquid.\n"
   ]
  },
  {
   "cell_type": "code",
   "execution_count": null,
   "id": "dbf96a51",
   "metadata": {},
   "outputs": [],
   "source": [
    "pl.semilogx(isf.partial['A'].grid[1], isf.partial['A'].value[0], '-o') \n",
    "pl.xlabel('t')\n",
    "pl.ylabel('ISF')"
   ]
  },
  {
   "cell_type": "markdown",
   "id": "78a87a84",
   "metadata": {},
   "source": [
    "![](isf.png)\n",
    "\n",
    "### More correlation functions\n",
    "\n",
    "Here is the full list of correlation functions currently available in\n",
    "`postprocessing`, along with the corresponding classes:\n"
   ]
  },
  {
   "cell_type": "code",
   "execution_count": null,
   "id": "18ddb265",
   "metadata": {},
   "outputs": [],
   "source": [
    "import inspect\n",
    "import atooms.postprocessing as pp\n",
    "for cls in inspect.getmembers(pp, inspect.isclass):    \n",
    "    if issubclass(cls[1], pp.Correlation) \\\n",
    "       and cls[1] is not pp.Correlation \\\n",
    "       and not 'Fast' in cls[0] \\\n",
    "       and not 'Legacy' in cls[0] \\\n",
    "       and not 'Optimized' in cls[0] \\\n",
    "       and not 'Susceptibility' == cls[0]:\n",
    "        print('- `{}`: {}'.format(cls[0], cls[1].long_name))"
   ]
  },
  {
   "cell_type": "markdown",
   "id": "9c76c5fe",
   "metadata": {},
   "source": [
    "-   \\`BondAngleDistribution\\`: bond angle distribution\n",
    "-   \\`Chi4SelfOverlap\\`: dynamic susceptibility of self overlap\n",
    "-   \\`CollectiveOverlap\\`: collective overlap\n",
    "-   \\`IntermediateScattering\\`: intermediate scattering function\n",
    "-   \\`MeanSquareDisplacement\\`: mean square displacement\n",
    "-   \\`NonGaussianParameter\\`: non-Gaussian parameter\n",
    "-   \\`RadialDistributionFunction\\`: radial distribution function\n",
    "-   \\`S4ktOverlap\\`: 4-point dynamic structure factor from self overlap\n",
    "-   \\`SelfIntermediateScattering\\`: self intermediate scattering\n",
    "    function\n",
    "-   \\`SelfOverlap\\`: self overlap\n",
    "-   \\`SpectralDensity\\`: spectral density\n",
    "-   \\`StructureFactor\\`: structure factor\n",
    "-   \\`VelocityAutocorrelation\\`: velocity autocorrelation\n",
    "\n",
    "Some of them have multiple implementations (ex. `Fast` and `Legacy`),\n",
    "which are picked at runtime depending on your platform. The fastest\n",
    "implementation will be automatically picked up, if possible.\n",
    "\n",
    "Writing your own correlation function\n",
    "-------------------------------------\n",
    "\n",
    "We can extend the correlation class to compute additional correlation\n",
    "functions. The particle coordinates are loaded into the `_pos` instance\n",
    "variable as a list of numpy arrays. Each numpy array is a\n",
    "`(ndim, npart)` representation of the full particles\\' coordinates in a\n",
    "given frame of the trajectory. This is a gist of a new correlation\n",
    "class.\n"
   ]
  },
  {
   "cell_type": "code",
   "execution_count": null,
   "id": "90c4393c",
   "metadata": {},
   "outputs": [],
   "source": [
    "from collections import defaultdict\n",
    "import numpy\n",
    "\n",
    "def some_function(x, pos):\n",
    "    return 0.0\n",
    "\n",
    "class NewCorrelation(pp.correlation.Correlation):\n",
    "    def __init__(self, trajectory, grid):\n",
    "        pp.correlation.Correlation.__init__(self, trajectory, grid)\n",
    "        self.phasespace = [\"pos\"]\n",
    "\n",
    "    def _compute(self):\n",
    "        raw = defaultdict(list)\n",
    "        for i in range(len(self._pos)):\n",
    "            for x in self.grid: \n",
    "                raw[x].append(some_function(x, self._pos[i]))        \n",
    "        self.value = [numpy.mean(raw[x]) for x in raw]"
   ]
  },
  {
   "cell_type": "code",
   "execution_count": null,
   "id": "b3c8695d",
   "metadata": {},
   "outputs": [],
   "source": [
    "nw = NewCorrelation(th, [0.0, 1.0])\n",
    "nw.compute()\n",
    "print(nw.value)"
   ]
  },
  {
   "cell_type": "markdown",
   "id": "d6f6870f",
   "metadata": {},
   "source": [
    "Storing results and analysis\n",
    "----------------------------\n",
    "\n",
    "The correlation functions can be written to files, using the `write()`\n",
    "method.\n"
   ]
  },
  {
   "cell_type": "code",
   "execution_count": null,
   "id": "0a0c3ad2",
   "metadata": {},
   "outputs": [],
   "source": [
    "msd = pp.MeanSquareDisplacement(th)\n",
    "msd.compute()\n",
    "msd.write()"
   ]
  },
  {
   "cell_type": "markdown",
   "id": "62e97ac2",
   "metadata": {},
   "source": [
    "The output file path is interpolated using the variable\n",
    "`core.pp_output_path`\n"
   ]
  },
  {
   "cell_type": "code",
   "execution_count": null,
   "id": "38a981c1",
   "metadata": {},
   "outputs": [],
   "source": [
    "print({} gives {}'.format(pp.core.pp_output_path, msd._output_file))"
   ]
  },
  {
   "cell_type": "markdown",
   "id": "44f3bb63",
   "metadata": {},
   "source": [
    "To change the output file pattern just modify the string. You can use\n",
    "any `Correlation` attribute enclosed in brackets to parameterize the\n",
    "output.\n",
    "\n",
    "The output file is a simple columnar text file containing the grid and\n",
    "values of the correlation function.\n",
    "\n",
    "Some correlation functions may implement some basic analysis as well\n"
   ]
  },
  {
   "cell_type": "code",
   "execution_count": null,
   "id": "dc8064d2",
   "metadata": {},
   "outputs": [],
   "source": [
    "msd.analyze()\n",
    "pprint(msd.analysis)"
   ]
  },
  {
   "cell_type": "markdown",
   "id": "e9cb9b42",
   "metadata": {},
   "source": [
    "If `analyze()` is called before `compute()`, the above dictionary will\n",
    "be written in the output file as well.\n",
    "\n",
    "Finally, you can perform all the steps above (`compute`, `analyze`,\n",
    "`write`) in one sweep like this\n"
   ]
  },
  {
   "cell_type": "code",
   "execution_count": null,
   "id": "96b880cc",
   "metadata": {},
   "outputs": [],
   "source": [
    "msd.do()"
   ]
  }
 ],
 "metadata": {},
 "nbformat": 4,
 "nbformat_minor": 5
}
