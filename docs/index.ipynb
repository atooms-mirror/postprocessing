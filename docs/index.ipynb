{
 "cells": [
  {
   "cell_type": "markdown",
   "id": "91e9788f",
   "metadata": {},
   "source": [
    "Setup\n",
    "=====\n",
    "\n",
    "In this notebook, we are going to show how to perform standard analysis\n",
    "of molecular dynamics trajectories using the ****atooms**** package and\n",
    "its ****postprocessing**** library. You can install both of them from\n",
    "pypi.\n",
    "\n",
    "We start by loading common libraries for plotting and path handling.\n"
   ]
  },
  {
   "cell_type": "code",
   "execution_count": null,
   "id": "c3bb83da",
   "metadata": {},
   "outputs": [],
   "source": [
    "import matplotlib.pyplot as pl\n",
    "import sys"
   ]
  },
  {
   "cell_type": "markdown",
   "id": "62e57180",
   "metadata": {},
   "source": [
    "We then import the ****postprocessing**** library and the trajectory\n",
    "class from ****atooms****. In this particular case, we will read an XYZ\n",
    "file, so we load the ****TrajectoryXYZ**** class\n"
   ]
  },
  {
   "cell_type": "code",
   "execution_count": null,
   "id": "c2fbca07",
   "metadata": {},
   "outputs": [],
   "source": [
    "import atooms.postprocessing as pp\n",
    "from atooms.trajectory import TrajectoryXYZ "
   ]
  },
  {
   "cell_type": "markdown",
   "id": "9973d7df",
   "metadata": {},
   "source": [
    "We consider an example trajectory, located in the postprocessing\n",
    "package. We can grab from the git repository. Let\\'s store the path to\n",
    "this file in a variable for later convenience\n"
   ]
  },
  {
   "cell_type": "code",
   "execution_count": null,
   "id": "67dfb48f",
   "metadata": {},
   "outputs": [],
   "source": [
    "from atooms.core.utils import download\n",
    "download('https://framagit.org/atooms/postprocessing/raw/master/data/kalj-small.xyz', \"/tmp\")\n",
    "path = '/tmp/kalj-small.xyz'"
   ]
  },
  {
   "cell_type": "markdown",
   "id": "6791ee0a",
   "metadata": {},
   "source": [
    "Handling a trajectory\n",
    "=====================\n",
    "\n",
    "A trajectory is an object with many properties. To load a trajectory, we\n",
    "create an instance of the class as follows\n"
   ]
  },
  {
   "cell_type": "code",
   "execution_count": null,
   "id": "a6729812",
   "metadata": {},
   "outputs": [],
   "source": [
    "th = TrajectoryXYZ(path)"
   ]
  },
  {
   "cell_type": "markdown",
   "id": "3a14cab7",
   "metadata": {},
   "source": [
    "The trajectory is a list-like object, in the sense that it can be\n",
    "iterated up and sliced. Each frame of the trajectory contains a `System`\n",
    "object, which is a full configration of the system at a given instant of\n",
    "time during the simulation. Here we print the first, the 10th and the\n",
    "last frame\n"
   ]
  },
  {
   "cell_type": "code",
   "execution_count": null,
   "id": "062fd609",
   "metadata": {},
   "outputs": [],
   "source": [
    "th[0], th[10], th[-1]"
   ]
  },
  {
   "cell_type": "markdown",
   "id": "5fc4c507",
   "metadata": {},
   "source": [
    "To know how many frames we have\n"
   ]
  },
  {
   "cell_type": "code",
   "execution_count": null,
   "id": "e1812d00",
   "metadata": {},
   "outputs": [],
   "source": [
    "len(th)"
   ]
  },
  {
   "cell_type": "markdown",
   "id": "39d3a6f6",
   "metadata": {},
   "source": [
    "To clarify: a slice is a list of frames, not a trajectory\n"
   ]
  },
  {
   "cell_type": "code",
   "execution_count": null,
   "id": "e1c88643",
   "metadata": {},
   "outputs": [],
   "source": [
    "th[10: 15]"
   ]
  },
  {
   "cell_type": "markdown",
   "id": "85d341d9",
   "metadata": {},
   "source": [
    "Note: it is actually possible to define a slice of a trajectory **as a\n",
    "trajectory** by using the `Sliced` class decorator, see below.\n",
    "\n",
    "If the trajectory contains metadata, these can be retrieved directly:\n"
   ]
  },
  {
   "cell_type": "code",
   "execution_count": null,
   "id": "c31d563a",
   "metadata": {},
   "outputs": [],
   "source": [
    "print(\"Timestep during the trajectory:\", th.timestep)\n",
    "print(\"Steps corresponding to the 3rd frame:\", th.steps[2])\n",
    "print(\"Trajectory metadata\", th.metadata)"
   ]
  },
  {
   "cell_type": "markdown",
   "id": "24b05cf0",
   "metadata": {},
   "source": [
    "Analysis of the trajectory\n",
    "==========================\n",
    "\n",
    "Now that we have constructed a trajectory object, we can proceed to the\n",
    "analysis. We are going to consider two main aspects of the analysis:\n",
    "\n",
    "-   structural correlations\n",
    "-   dynamical correlations\n",
    "\n",
    "Structural correlations\n",
    "-----------------------\n",
    "\n",
    "### Radial distribution function\n",
    "\n",
    "The radial distribution function $g(r)$ describes how density varies as\n",
    "a function of the radial distance from a reference particle. In liquids,\n",
    "one normally averages over all particles, obtaining a descriptor of the\n",
    "probability to find a second particle a distance $r$ from a given\n",
    "particle, relative to that of the ideal gas.\n",
    "\n",
    "For $N$ particles of the same type at density $\\rho$ it is\n",
    "\n",
    "$$g(r)=\\frac{1}{N\\rho}\\left\\langle\\sum_i^{N}\\sum_{i\\neq j}\\delta(r-|\\mathbf{r}_i-\\mathbf{r}_j|)\\right\\rangle$$.\n",
    "\n",
    "Notice that the average number of particles with a distance $R$, i.e.\n",
    "the average ****coordination**** $n(R)$, can be computed from the radial\n",
    "distribution function via integration in spherical coordinates (for 3D\n",
    "systems)\n",
    "\n",
    "$$n(R)=4\\pi \\rho\\int_0^R g(r)r^2 dr$$\n",
    "\n",
    "In **postprocessing** the radial distribution function is a correlation\n",
    "object that acts on a trajectory. In order to compute it, we simply\n",
    "construct the object, specifying some parameters, and then run the\n",
    "calculation with the `do()` method\n"
   ]
  },
  {
   "cell_type": "code",
   "execution_count": null,
   "id": "b0930363",
   "metadata": {},
   "outputs": [],
   "source": [
    "gr = pp.RadialDistributionFunction(th, norigins=5, dr=0.04)\n",
    "gr.do()"
   ]
  },
  {
   "cell_type": "markdown",
   "id": "ccfb077f",
   "metadata": {},
   "source": [
    "Once the calculation is performed, the radial distribution object gr\n",
    "contains (like all correlators in **postprocessing**) two arrays:\n",
    "\n",
    "-   the `grid` array contains the independent variable (or variables),\n",
    "    binned according to our input parameters (in this case, the smallest\n",
    "    space interval that we resolve, `dr`)\n",
    "-   the `value` array contains the actual value of teh computation, in\n",
    "    this case the values of the $g(r)$\n",
    "\n",
    "We can directly plot the results with\n"
   ]
  },
  {
   "cell_type": "code",
   "execution_count": null,
   "id": "110fab32",
   "metadata": {},
   "outputs": [],
   "source": [
    "pl.plot(gr.grid, gr.value)\n",
    "pl.xlabel(\"r\")\n",
    "pl.ylabel(\"g(r)\")"
   ]
  },
  {
   "cell_type": "markdown",
   "id": "61704449",
   "metadata": {},
   "source": [
    "![](gr.png)\n",
    "\n",
    "As we can see, the function displays two narrow peaks around $r=1$ and a\n",
    "broader peak further away. The several peaks correspond to the fact that\n",
    "the trajectory actualy contains two types of particles, noted as \\\"A\\\"\n",
    "and \\\"B\\\".\n",
    "\n",
    "We can compute separate distribution functions for the $A$ and $B$\n",
    "particles and also the cross distribution funtion for the probability to\n",
    "find a particle $B$ at distance $r$ from particle $A$ using the\n",
    "`Partial` class in **postprocessing**:\n"
   ]
  },
  {
   "cell_type": "code",
   "execution_count": null,
   "id": "f4559d27",
   "metadata": {},
   "outputs": [],
   "source": [
    "gr = pp.Partial(pp.RadialDistributionFunction, species=['A', 'B'], trajectory=th, norigins=100)\n",
    "gr.do() "
   ]
  },
  {
   "cell_type": "markdown",
   "id": "af2ee406",
   "metadata": {},
   "source": [
    "In this case, the result contains a dictionary `gr.partial`:\n"
   ]
  },
  {
   "cell_type": "code",
   "execution_count": null,
   "id": "ad90a73a",
   "metadata": {},
   "outputs": [],
   "source": [
    "from pprint import pprint\n",
    "pprint(gr.partial)"
   ]
  },
  {
   "cell_type": "markdown",
   "id": "8a8b828d",
   "metadata": {},
   "source": [
    "We can treat the result as any norrmal dictionary:\n"
   ]
  },
  {
   "cell_type": "code",
   "execution_count": null,
   "id": "1a8a89d6",
   "metadata": {},
   "outputs": [],
   "source": [
    "for key,g in gr.partial.items(): \n",
    "    pl.plot(g.grid, g.value, label=str(\"\".join(key)))\n",
    "pl.legend()\n",
    "pl.xlabel(\"r\")\n",
    "pl.ylabel(r\"$g_{\\alpha\\beta}(r)$\")"
   ]
  },
  {
   "cell_type": "markdown",
   "id": "ebcd56b1",
   "metadata": {},
   "source": [
    "Sometimes, it is useful to analyse only sections of a trajectory. To\n",
    "this purpose, one can slice the trajectory using **atooms** and analyse\n",
    "individual frames or subsets of frames.\n"
   ]
  },
  {
   "cell_type": "code",
   "execution_count": null,
   "id": "c5e19391",
   "metadata": {},
   "outputs": [],
   "source": [
    "from atooms import trajectory\n",
    "t =  trajectory.Sliced(th, slice(-1, len(th)))  # analyse only the last frame\n",
    "gr = pp.RadialDistributionFunction(t, dr=0.04)\n",
    "gr.do()\n",
    "pl.plot(gr.grid, gr.value)\n",
    "pl.xlabel(\"r\")\n",
    "pl.ylabel(\"g(r)\")  # notice that the g(r) is more noisy"
   ]
  },
  {
   "cell_type": "markdown",
   "id": "7399d443",
   "metadata": {},
   "source": [
    "Dynamical correlations\n",
    "----------------------\n",
    "\n",
    "### Mean square displacement\n",
    "\n",
    "A very similar kind of anaysis can be performed on dynamical quantities,\n",
    "which quantify correlations in time.\n",
    "\n",
    "The most elementary of such quantities is the mean squared displacement\n",
    "(MSD). This is defined as\n",
    "\n",
    "$$ \\delta r^2(t)= \\langle |\\mathbf{r}(t-t_0) - \\mathbf{r}(t_0)|^2\\rangle$$\n",
    "\n",
    "The average is normally perfomed over all the paricles $N$ and over\n",
    "multiple values for the **origin** of time $t_0$.\n",
    "\n",
    "The analysis process is now familiar. First we cosntruct the msd object\n",
    "and then perform the calculation with `do()`.\n"
   ]
  },
  {
   "cell_type": "code",
   "execution_count": null,
   "id": "1b5b726b",
   "metadata": {},
   "outputs": [],
   "source": [
    "msd = pp.MeanSquareDisplacement(th)\n",
    "msd.do()"
   ]
  },
  {
   "cell_type": "code",
   "execution_count": null,
   "id": "505631aa",
   "metadata": {},
   "outputs": [],
   "source": [
    "pl.loglog(msd.grid, msd.value, 'o')\n",
    "pl.xlabel(\"t\")\n",
    "pl.ylabel(\"MSD(t)\");"
   ]
  },
  {
   "cell_type": "markdown",
   "id": "8c7c7d95",
   "metadata": {},
   "source": [
    "Again, we can compute partial mean square displacements using the\n",
    "`Partial` class\n"
   ]
  },
  {
   "cell_type": "code",
   "execution_count": null,
   "id": "1bbab434",
   "metadata": {},
   "outputs": [],
   "source": [
    "msds = pp.Partial(pp.MeanSquareDisplacement, species=['A','B'], trajectory=th, norigins=100)\n",
    "msds.do()\n",
    "pl.loglog(msds.partial['A'].grid, msds.partial['A'].value, 'o')\n",
    "pl.loglog(msds.partial['B'].grid, msds.partial['B'].value, 'o')\n",
    "pl.xlabel(\"t\")\n",
    "pl.ylabel(\"MSD(t)\")"
   ]
  },
  {
   "cell_type": "markdown",
   "id": "7959fec3",
   "metadata": {},
   "source": [
    "### Self intermediate scattering function\n",
    "\n",
    "We compute the self part of the intermediate scattering function (ISF)\n",
    "at specific wave-vectors using a logarithmic time grid.\n"
   ]
  },
  {
   "cell_type": "code",
   "execution_count": null,
   "id": "5304eca4",
   "metadata": {},
   "outputs": [],
   "source": [
    "from math import pi\n",
    "import numpy\n",
    "isf = pp.Partial(pp.SelfIntermediateScattering, species=[\"A\"], trajectory= th, kgrid=[2*pi, 2.5*pi], nk=1, tgrid=[0] + list(numpy.logspace(0, 3, base=10)))\n",
    "isf.do()"
   ]
  },
  {
   "cell_type": "markdown",
   "id": "83f3732f",
   "metadata": {},
   "source": [
    "To get some info on the parameters passed to compute the ISF, have a\n",
    "look at the help for the base class with\n",
    "`help(pp.fourierspace.FourierSpaceCorrelation)`\n",
    "\n",
    "The ISF decays to zero at long times, as it should in an ergodic liquid.\n"
   ]
  },
  {
   "cell_type": "code",
   "execution_count": null,
   "id": "80ffb163",
   "metadata": {},
   "outputs": [],
   "source": [
    "pl.semilogx(isf.partial['A'].grid[1], isf.partial['A'].value[0], '-o') "
   ]
  },
  {
   "cell_type": "markdown",
   "id": "ee2fa2ed",
   "metadata": {},
   "source": [
    "Writing your own correlation function\n",
    "=====================================\n",
    "\n",
    "We can extend the correlation class to compute additional correlation\n",
    "functions. The particle coordinates are loaded into the `_pos` instance\n",
    "variable as a list of numpy arrays. Each numpy array is a\n",
    "`(ndim, npart)` representation of the full particles\\' coordinates in a\n",
    "given frame of the trajectory. This is a gist of a new correlation\n",
    "class.\n"
   ]
  },
  {
   "cell_type": "code",
   "execution_count": null,
   "id": "46527d83",
   "metadata": {},
   "outputs": [],
   "source": [
    "from collections import defaultdict\n",
    "import numpy\n",
    "\n",
    "def some_function(x, pos):\n",
    "    return 0.0\n",
    "\n",
    "class NewCorrelation(pp.correlation.Correlation):\n",
    "    def __init__(self, trajectory, grid):\n",
    "        pp.correlation.Correlation.__init__(self, trajectory, grid)\n",
    "        self.phasespace = [\"pos\"]\n",
    "\n",
    "    def _compute(self):\n",
    "        print(\"Computing new correlation\")\n",
    "        raw = defaultdict(list)\n",
    "        for i in range(len(self._pos)):\n",
    "            for x in self.grid: \n",
    "                raw[x].append(some_function(x, self._pos[i]))        \n",
    "        self.value = [numpy.mean(raw[x]) for x in raw]"
   ]
  },
  {
   "cell_type": "code",
   "execution_count": null,
   "id": "cee23c72",
   "metadata": {},
   "outputs": [],
   "source": [
    "nw = NewCorrelation(th, [0.0, 1.0])\n",
    "nw.compute()\n",
    "print(nw.value)"
   ]
  }
 ],
 "metadata": {},
 "nbformat": 4,
 "nbformat_minor": 5
}
