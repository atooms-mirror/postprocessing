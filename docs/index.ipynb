{
 "cells": [
  {
   "cell_type": "markdown",
   "id": "b9738c61",
   "metadata": {},
   "source": [
    "Postprocessing with atooms\n",
    "==========================\n",
    "\n",
    "index\n",
    "\n",
    "In this tutorial, we are going to show how to perform standard analysis\n",
    "of molecular dynamics trajectories using the `atooms` package and its\n",
    "`postprocessing` component. You can install `postprocessing` from pypi:\n",
    "`pip install atooms-pp`.\n",
    "\n",
    "Setup\n",
    "-----\n",
    "\n",
    "We start by loading common libraries for plotting and path handling\n"
   ]
  },
  {
   "cell_type": "code",
   "execution_count": null,
   "id": "3b51aa0f",
   "metadata": {},
   "outputs": [],
   "source": [
    "import matplotlib.pyplot as pl\n",
    "import sys"
   ]
  },
  {
   "cell_type": "markdown",
   "id": "9a0ea8ab",
   "metadata": {},
   "source": [
    "We then import the `postprocessing` package and the trajectory class\n",
    "from `atooms`. In this particular case, we will read a trajectory file\n",
    "in XYZ format, so we load the `TrajectoryXYZ` class\n"
   ]
  },
  {
   "cell_type": "code",
   "execution_count": null,
   "id": "586fc6b5",
   "metadata": {},
   "outputs": [],
   "source": [
    "import atooms.postprocessing as pp\n",
    "from atooms.trajectory import TrajectoryXYZ "
   ]
  },
  {
   "cell_type": "markdown",
   "id": "8045c6c4",
   "metadata": {},
   "source": [
    "We consider a sample trajectory, which can be download from the\n",
    "repository of the postprocessing package itself. Let\\'s store the path\n",
    "to this file in a variable for later convenience\n"
   ]
  },
  {
   "cell_type": "code",
   "execution_count": null,
   "id": "8fe56667",
   "metadata": {},
   "outputs": [],
   "source": [
    "from atooms.core.utils import download\n",
    "download('https://framagit.org/atooms/postprocessing/raw/master/data/kalj-small.xyz', \"/tmp\")\n",
    "path = '/tmp/kalj-small.xyz'"
   ]
  },
  {
   "cell_type": "markdown",
   "id": "f4260c0a",
   "metadata": {},
   "source": [
    "### Handling a trajectory\n",
    "\n",
    "A trajectory is an object with many properties. To load a trajectory, we\n",
    "create an instance of the class as follows\n"
   ]
  },
  {
   "cell_type": "code",
   "execution_count": null,
   "id": "29a23f2f",
   "metadata": {},
   "outputs": [],
   "source": [
    "th = TrajectoryXYZ(path)"
   ]
  },
  {
   "cell_type": "markdown",
   "id": "38862aea",
   "metadata": {},
   "source": [
    "The trajectory is a list-like object, in the sense that it can be\n",
    "iterated up and sliced. Each frame of the trajectory contains a `System`\n",
    "object, which is a full configration of the system at a given instant of\n",
    "time during the simulation. Here we print the first, the 10th and the\n",
    "last frame\n"
   ]
  },
  {
   "cell_type": "code",
   "execution_count": null,
   "id": "b39c986a",
   "metadata": {},
   "outputs": [],
   "source": [
    "th[0], th[10], th[-1]"
   ]
  },
  {
   "cell_type": "markdown",
   "id": "37c9da90",
   "metadata": {},
   "source": [
    "To know how many frames we have\n"
   ]
  },
  {
   "cell_type": "code",
   "execution_count": null,
   "id": "6fe04a89",
   "metadata": {},
   "outputs": [],
   "source": [
    "len(th)"
   ]
  },
  {
   "cell_type": "markdown",
   "id": "228e414e",
   "metadata": {},
   "source": [
    "To clarify: a slice is a list of frames, not a trajectory\n"
   ]
  },
  {
   "cell_type": "code",
   "execution_count": null,
   "id": "30edd80a",
   "metadata": {},
   "outputs": [],
   "source": [
    "th[10: 12]"
   ]
  },
  {
   "cell_type": "markdown",
   "id": "4857ec1d",
   "metadata": {},
   "source": [
    "It is actually possible to define a slice of a trajectory **as a\n",
    "trajectory** by using the `Sliced` class decorator, see below.\n",
    "\n",
    "If the trajectory contains metadata, these can be retrieved directly:\n"
   ]
  },
  {
   "cell_type": "code",
   "execution_count": null,
   "id": "d48f712e",
   "metadata": {},
   "outputs": [],
   "source": [
    "from pprint import pprint\n",
    "print(\"Timestep during the trajectory:\", th.timestep)\n",
    "print(\"Steps corresponding to the 3rd frame:\", th.steps[2])\n",
    "print(\"Additional metadata:\")\n",
    "pprint(th.metadata)"
   ]
  },
  {
   "cell_type": "markdown",
   "id": "5c712f33",
   "metadata": {},
   "source": [
    "Analysis of the trajectory\n",
    "--------------------------\n",
    "\n",
    "Now that we have constructed a trajectory object, we can proceed to the\n",
    "analysis. We are going to consider two main aspects of the analysis:\n",
    "\n",
    "-   structural correlations\n",
    "-   dynamical correlations\n",
    "\n",
    "### Structural correlations\n",
    "\n",
    "1.  Radial distribution function\n",
    "\n",
    "    The radial distribution function $g(r)$ describes how the local\n",
    "    density varies as a function of the distance from a reference\n",
    "    particle. In liquids, one normally averages over all particles,\n",
    "    obtaining a descriptor of the probability to find a second particle\n",
    "    a distance $r$ from a given particle, relative to that of the ideal\n",
    "    gas.\n",
    "\n",
    "    For $N$ particles of the same type at density $\\rho$ it is\n",
    "\n",
    "    $$g(r)=\\frac{1}{N\\rho}\\left\\langle\\sum_i^{N}\\sum_{i\\neq j}\\delta(r-|\\mathbf{r}_i-\\mathbf{r}_j|)\\right\\rangle$$.\n",
    "\n",
    "    Notice that the average number of particles with a distance $R$,\n",
    "    i.e. the average **coordination number** $n(R)$, can be computed\n",
    "    from the radial distribution function via integration in spherical\n",
    "    coordinates (for 3D systems)\n",
    "\n",
    "    $$n(R)=4\\pi \\rho\\int_0^R g(r)r^2 dr$$\n",
    "\n",
    "    In `postprocessing` the radial distribution function is a\n",
    "    `Correlation` object that acts on a trajectory. In order to compute\n",
    "    it, we simply construct the object, specifying some parameters, and\n",
    "    then run the calculation with the `do()` method\n"
   ]
  },
  {
   "cell_type": "code",
   "execution_count": null,
   "id": "7380378b",
   "metadata": {},
   "outputs": [],
   "source": [
    "gr = pp.RadialDistributionFunction(th, norigins=5, dr=0.04)\n",
    "gr.do()"
   ]
  },
  {
   "cell_type": "markdown",
   "id": "d1c5b0a2",
   "metadata": {},
   "source": [
    "Once the calculation is performed, the radial distribution object `gr`\n",
    "contains (like all correlators in `postprocessing`) two arrays:\n",
    "\n",
    "-   the `grid` array contains the independent variable (or variables),\n",
    "    binned according to our input parameters (in this case, the smallest\n",
    "    space interval that we resolve, `dr`)\n",
    "-   the `value` array contains the actual value of the computation, in\n",
    "    this case the values of $g(r)$\n",
    "\n",
    "We can directly plot the results with\n"
   ]
  },
  {
   "cell_type": "code",
   "execution_count": null,
   "id": "2d152f9b",
   "metadata": {},
   "outputs": [],
   "source": [
    "pl.plot(gr.grid, gr.value)\n",
    "pl.xlabel(\"r\")\n",
    "pl.ylabel(\"g(r)\")"
   ]
  },
  {
   "cell_type": "markdown",
   "id": "3a51a7fa",
   "metadata": {},
   "source": [
    "![](gr.png)\n",
    "\n",
    "As we can see, the function displays two narrow peaks around $r=1$ and a\n",
    "broader peak further away. The presence of several peaks is due to the\n",
    "fact that the system actually contains two types of particles, noted $A$\n",
    "and $B$.\n",
    "\n",
    "We can compute separate distribution functions for the $A$ and $B$\n",
    "particles and also the cross distribution funtion for the probability to\n",
    "find a particle $B$ at distance $r$ from particle $A$ using the\n",
    "`Partial` class:\n"
   ]
  },
  {
   "cell_type": "code",
   "execution_count": null,
   "id": "9c1f1fe7",
   "metadata": {},
   "outputs": [],
   "source": [
    "gr = pp.Partial(pp.RadialDistributionFunction, species=['A', 'B'], trajectory=th, norigins=100)\n",
    "gr.do() "
   ]
  },
  {
   "cell_type": "markdown",
   "id": "8c39d936",
   "metadata": {},
   "source": [
    "In this case, the result contains a dictionary `gr.partial`:\n"
   ]
  },
  {
   "cell_type": "code",
   "execution_count": null,
   "id": "32922e82",
   "metadata": {},
   "outputs": [],
   "source": [
    "from pprint import pprint\n",
    "pprint(gr.partial)"
   ]
  },
  {
   "cell_type": "markdown",
   "id": "f0998089",
   "metadata": {},
   "source": [
    "We can treat the result as any normal dictionary:\n"
   ]
  },
  {
   "cell_type": "code",
   "execution_count": null,
   "id": "9ff0d1a5",
   "metadata": {},
   "outputs": [],
   "source": [
    "for key,g in gr.partial.items(): \n",
    "    pl.plot(g.grid, g.value, label=str(\"\".join(key)))\n",
    "pl.legend()\n",
    "pl.xlabel(\"r\")\n",
    "pl.ylabel(r\"$g_{\\alpha\\beta}(r)$\")"
   ]
  },
  {
   "cell_type": "markdown",
   "id": "53e10478",
   "metadata": {},
   "source": [
    "![](gr_ab.png)\n",
    "\n",
    "Sometimes, it is useful to analyse only sections of a trajectory. To\n",
    "this purpose, one can slice the trajectory using `atooms` and analyse\n",
    "individual frames or subsets of frames.\n"
   ]
  },
  {
   "cell_type": "code",
   "execution_count": null,
   "id": "eb93d079",
   "metadata": {},
   "outputs": [],
   "source": [
    "from atooms import trajectory\n",
    "t =  trajectory.Sliced(th, slice(-1, len(th)))  # analyse only the last frame\n",
    "gr = pp.RadialDistributionFunction(t, dr=0.04)\n",
    "gr.do()\n",
    "pl.plot(gr.grid, gr.value)\n",
    "pl.xlabel(\"r\")\n",
    "pl.ylabel(\"g(r)\")  # notice that the g(r) is more noisy"
   ]
  },
  {
   "cell_type": "markdown",
   "id": "0554ae98",
   "metadata": {},
   "source": [
    "![](gr_slice.png)\n",
    "\n",
    "### Dynamical correlations\n",
    "\n",
    "1.  Mean square displacement\n",
    "\n",
    "    A very similar kind of anaysis can be performed on dynamical\n",
    "    quantities, which quantify correlations in time.\n",
    "\n",
    "    The most elementary of such quantities is the mean squared\n",
    "    displacement (MSD). This is defined as\n",
    "\n",
    "    $$ \\delta r^2(t)= \\langle |\\mathbf{r}(t-t_0) - \\mathbf{r}(t_0)|^2\\rangle$$\n",
    "\n",
    "    The average is normally perfomed over all the $N$ particles and over\n",
    "    multiple values for the **origin** of time $t_0$.\n",
    "\n",
    "    The analysis process is now familiar. First we construct the msd\n",
    "    object and then perform the calculation with `do()`.\n"
   ]
  },
  {
   "cell_type": "code",
   "execution_count": null,
   "id": "0c0d2c25",
   "metadata": {},
   "outputs": [],
   "source": [
    "msd = pp.MeanSquareDisplacement(th)\n",
    "msd.do()"
   ]
  },
  {
   "cell_type": "code",
   "execution_count": null,
   "id": "1bf463da",
   "metadata": {},
   "outputs": [],
   "source": [
    "pl.loglog(msd.grid, msd.value, 'o')\n",
    "pl.xlabel(\"t\")\n",
    "pl.ylabel(\"MSD(t)\");"
   ]
  },
  {
   "cell_type": "markdown",
   "id": "9a29ceea",
   "metadata": {},
   "source": [
    "![](msd.png)\n",
    "\n",
    "Again, we can compute partial mean square displacements using the\n",
    "`Partial` class\n"
   ]
  },
  {
   "cell_type": "code",
   "execution_count": null,
   "id": "27ac4584",
   "metadata": {},
   "outputs": [],
   "source": [
    "msds = pp.Partial(pp.MeanSquareDisplacement, species=['A','B'], trajectory=th, norigins=100)\n",
    "msds.do()\n",
    "pl.loglog(msds.partial['A'].grid, msds.partial['A'].value, 'o')\n",
    "pl.loglog(msds.partial['B'].grid, msds.partial['B'].value, 'o')\n",
    "pl.xlabel(\"t\")\n",
    "pl.ylabel(\"MSD(t)\")"
   ]
  },
  {
   "cell_type": "markdown",
   "id": "825c4ad0",
   "metadata": {},
   "source": [
    "![](msd_ab.png)\n",
    "\n",
    "Self intermediate scattering function\n",
    "\n",
    "We compute the self part of the intermediate scattering function (ISF)\n",
    "at specific wave-vectors using a logarithmic time grid.\n"
   ]
  },
  {
   "cell_type": "code",
   "execution_count": null,
   "id": "d3c1bef5",
   "metadata": {},
   "outputs": [],
   "source": [
    "from math import pi\n",
    "import numpy\n",
    "tgrid = numpy.logspace(0, 3, base=10)  # we must include t=0\n",
    "isf = pp.Partial(pp.SelfIntermediateScattering, species=[\"A\"], trajectory=th,\n",
    "                 kgrid=[2*pi, 2.5*pi], nk=1, tgrid=tgrid)\n",
    "isf.do()"
   ]
  },
  {
   "cell_type": "markdown",
   "id": "fbc0c11b",
   "metadata": {},
   "source": [
    "To get some info on the parameters passed to compute the ISF, have a\n",
    "look at the help for the base class with\n",
    "`help(pp.fourierspace.FourierSpaceCorrelation)`\n",
    "\n",
    "The ISF decays to zero at long times, as it should in an ergodic liquid.\n"
   ]
  },
  {
   "cell_type": "code",
   "execution_count": null,
   "id": "e8642b15",
   "metadata": {},
   "outputs": [],
   "source": [
    "pl.semilogx(isf.partial['A'].grid[1], isf.partial['A'].value[0], '-o') \n",
    "pl.xlabel('t')\n",
    "pl.ylabel('ISF')"
   ]
  },
  {
   "cell_type": "markdown",
   "id": "f783980c",
   "metadata": {},
   "source": [
    "![](isf.png)\n",
    "\n",
    "### More correlation functions\n",
    "\n",
    "Here is the full list of correlation functions currently available in\n",
    "`postprocessing`, along with the corresponding classes:\n"
   ]
  },
  {
   "cell_type": "code",
   "execution_count": null,
   "id": "cdde327b",
   "metadata": {},
   "outputs": [],
   "source": [
    "import inspect\n",
    "import atooms.postprocessing as pp\n",
    "for cls in inspect.getmembers(pp, inspect.isclass):    \n",
    "    if issubclass(cls[1], pp.Correlation) \\\n",
    "       and cls[1] is not pp.Correlation \\\n",
    "       and not 'Fast' in cls[0] \\\n",
    "       and not 'Legacy' in cls[0] \\\n",
    "       and not 'Optimized' in cls[0] \\\n",
    "       and not 'Susceptibility' == cls[0]:\n",
    "        print('- `{}`: {}'.format(cls[0], cls[1].long_name))"
   ]
  },
  {
   "cell_type": "markdown",
   "id": "9492c264",
   "metadata": {},
   "source": [
    "-   \\`BondAngleDistribution\\`: bond angle distribution\n",
    "-   \\`Chi4SelfOverlap\\`: dynamic susceptibility of self overlap\n",
    "-   \\`CollectiveOverlap\\`: collective overlap\n",
    "-   \\`IntermediateScattering\\`: intermediate scattering function\n",
    "-   \\`MeanSquareDisplacement\\`: mean square displacement\n",
    "-   \\`NonGaussianParameter\\`: non-Gaussian parameter\n",
    "-   \\`RadialDistributionFunction\\`: radial distribution function\n",
    "-   \\`S4ktOverlap\\`: 4-point dynamic structure factor from self overlap\n",
    "-   \\`SelfIntermediateScattering\\`: self intermediate scattering\n",
    "    function\n",
    "-   \\`SelfOverlap\\`: self overlap\n",
    "-   \\`SpectralDensity\\`: spectral density\n",
    "-   \\`StructureFactor\\`: structure factor\n",
    "-   \\`VelocityAutocorrelation\\`: velocity autocorrelation\n",
    "\n",
    "Some of them have multiple implementations (ex. `Fast` and `Legacy`),\n",
    "which are picked at runtime depending on your platform. The fastest\n",
    "implementation will be automatically picked up, if possible.\n",
    "\n",
    "Writing your own correlation function\n",
    "-------------------------------------\n",
    "\n",
    "We can extend the correlation class to compute additional correlation\n",
    "functions. The particle coordinates are loaded into the `_pos` instance\n",
    "variable as a list of numpy arrays. Each numpy array is a\n",
    "`(ndim, npart)` representation of the full particles\\' coordinates in a\n",
    "given frame of the trajectory. This is a gist of a new correlation\n",
    "class.\n"
   ]
  },
  {
   "cell_type": "code",
   "execution_count": null,
   "id": "56d1df51",
   "metadata": {},
   "outputs": [],
   "source": [
    "from collections import defaultdict\n",
    "import numpy\n",
    "\n",
    "def some_function(x, pos):\n",
    "    return 0.0\n",
    "\n",
    "class NewCorrelation(pp.correlation.Correlation):\n",
    "    def __init__(self, trajectory, grid):\n",
    "        pp.correlation.Correlation.__init__(self, trajectory, grid)\n",
    "        self.phasespace = [\"pos\"]\n",
    "\n",
    "    def _compute(self):\n",
    "        print(\"Computing new correlation\")\n",
    "        raw = defaultdict(list)\n",
    "        for i in range(len(self._pos)):\n",
    "            for x in self.grid: \n",
    "                raw[x].append(some_function(x, self._pos[i]))        \n",
    "        self.value = [numpy.mean(raw[x]) for x in raw]"
   ]
  },
  {
   "cell_type": "code",
   "execution_count": null,
   "id": "50811538",
   "metadata": {},
   "outputs": [],
   "source": [
    "nw = NewCorrelation(th, [0.0, 1.0])\n",
    "nw.compute()\n",
    "print(nw.value)"
   ]
  }
 ],
 "metadata": {},
 "nbformat": 4,
 "nbformat_minor": 5
}
